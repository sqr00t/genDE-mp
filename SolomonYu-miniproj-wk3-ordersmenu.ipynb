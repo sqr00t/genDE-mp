{
 "cells": [
  {
   "cell_type": "code",
   "execution_count": 1,
   "metadata": {},
   "outputs": [],
   "source": [
    "import os, sys\n",
    "from os import system, name\n",
    "\n",
    "# function to get current script directory\n",
    "def fileinsamedir(filename):\n",
    "    return os.path.join(sys.path[0], str(filename))\n",
    "\n",
    "# function to clear console output irrespective of windows/unix\n",
    "def clearConsole():\n",
    "    return system('cls') if name == 'nt' else system('clear')"
   ]
  },
  {
   "cell_type": "code",
   "execution_count": 2,
   "metadata": {},
   "outputs": [
    {
     "data": {
      "text/plain": [
       "[{'customer_name': 'John',\n",
       "  'customer_address': 'Unit 2, 12 Main Street, LONDON, WH1 2ER',\n",
       "  'customer_phone': '0789887334',\n",
       "  'courier': 2,\n",
       "  'status': 'preparing'}]"
      ]
     },
     "execution_count": 2,
     "metadata": {},
     "output_type": "execute_result"
    }
   ],
   "source": [
    "# Sample dictionary entry in orders list\n",
    "\n",
    "[{\n",
    "    \"customer_name\": \"John\",\n",
    "    \"customer_address\": \"Unit 2, 12 Main Street, LONDON, WH1 2ER\",\n",
    "    \"customer_phone\": \"0789887334\",\n",
    "    \"courier\": 2,\n",
    "    \"status\": \"preparing\"\n",
    "}]"
   ]
  },
  {
   "cell_type": "code",
   "execution_count": 3,
   "metadata": {},
   "outputs": [],
   "source": [
    "def ordersmenu():\n",
    "    ordersopts = [\"Return to main menu\", \"Show orders dictionary list\", \"Add an order\",\n",
    "                    \"Update an existing order\", \"Remove an order\",\n",
    "                    f\"Orders Menu: Options\\n\", \"\\nChoose an option by entering it's index: \"]\n",
    "    print(ordersopts[-2])\n",
    "    for i in range(0, len(ordersopts)-2):\n",
    "        print(f\"  {i}:  {ordersopts[i]}\")\n",
    "    choice = int(input(ordersopts[-1]))\n",
    "    clearConsole()\n",
    "        \n",
    "    return choice"
   ]
  },
  {
   "cell_type": "code",
   "execution_count": 26,
   "metadata": {},
   "outputs": [
    {
     "name": "stdout",
     "output_type": "stream",
     "text": [
      "Orders Menu: Options\n",
      "\n",
      "  0:  Return to main menu\n",
      "  1:  Show orders dictionary\n",
      "  2:  Add an order\n",
      "  3:  Update an existing order\n",
      "  4:  Remove an order\n"
     ]
    },
    {
     "data": {
      "text/plain": [
       "0"
      ]
     },
     "execution_count": 26,
     "metadata": {},
     "output_type": "execute_result"
    }
   ],
   "source": []
  }
 ],
 "metadata": {
  "interpreter": {
   "hash": "c2557150318e0f9e47bd0cfd2863178a56c96c1f056f809189663e9f5b388602"
  },
  "kernelspec": {
   "display_name": "Python 3.9.7 64-bit ('generationDataEng': conda)",
   "language": "python",
   "name": "python3"
  },
  "language_info": {
   "codemirror_mode": {
    "name": "ipython",
    "version": 3
   },
   "file_extension": ".py",
   "mimetype": "text/x-python",
   "name": "python",
   "nbconvert_exporter": "python",
   "pygments_lexer": "ipython3",
   "version": "3.9.7"
  },
  "orig_nbformat": 4
 },
 "nbformat": 4,
 "nbformat_minor": 2
}
