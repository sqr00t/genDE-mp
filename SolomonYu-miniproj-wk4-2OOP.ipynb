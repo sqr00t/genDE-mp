{
 "cells": [
  {
   "cell_type": "code",
   "execution_count": null,
   "metadata": {},
   "outputs": [],
   "source": [
    "class DictsList:\n",
    "    def __init__(self, dictslist, listname):\n",
    "    #inialist list object with file contests\n",
    "        \n",
    "    def show_dicts():\n",
    "    \n",
    "    def delete_dict():\n",
    "        \n",
    "    def new_dict():\n",
    "        \n",
    "    def append_dictslist():\n",
    "        \n",
    "    def update_dictslist():"
   ]
  }
 ],
 "metadata": {
  "language_info": {
   "name": "python"
  },
  "orig_nbformat": 4
 },
 "nbformat": 4,
 "nbformat_minor": 2
}
