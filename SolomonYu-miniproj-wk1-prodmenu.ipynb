{
 "cells": [
  {
   "cell_type": "code",
   "execution_count": null,
   "metadata": {},
   "outputs": [],
   "source": [
    "from os import system, name\n",
    "\n",
    "def clearConsole():\n",
    "    return system('cls') if name == 'nt' else system('clear')\n",
    "\n",
    "products = []\n",
    "\n",
    "while True:\n",
    "    print(\"Main Menu Options:\\n\\n\",\n",
    "          \"  1:  Products Menu\\n\",\n",
    "          \"  0:  Exit app\\n\")\n",
    "    mainmenu = int(input(\"Enter 1 or 0:\\n\"))\n",
    "    clearConsole()\n",
    "    if mainmenu == 0:\n",
    "        clearConsole()\n",
    "        print(\"Exiting app...\")\n",
    "        break\n",
    "    while mainmenu == 1:\n",
    "        mainopts = [\"List products\", \"Insert a product\",\n",
    "                    \"Update existing product\", \"Remove a product\",\n",
    "                    \"Return to main menu\"]\n",
    "        print(f\"Products Menu: Options\\n\\n\",\n",
    "              f\"  1:  {mainopts[0]}\\n\",\n",
    "              f\"  2:  {mainopts[1]}\\n\",\n",
    "              f\"  3:  {mainopts[2]}\\n\",\n",
    "              f\"  4:  {mainopts[3]}\\n\",\n",
    "              f\"  0:  {mainopts[4]}\")\n",
    "        prodmenu = int(input(\"Enter 1, 2, 3, or 4:\\n\"))\n",
    "        clearConsole()\n",
    "        \n",
    "        if prodmenu == 0:\n",
    "            clearConsole()\n",
    "            print(\"Returned to main menu\")\n",
    "            break\n",
    "        elif prodmenu == 1:\n",
    "            clearConsole()\n",
    "            print([i for i in products], sep = \"\\n\")\n",
    "        elif prodmenu == 2:\n",
    "            clearConsole()\n",
    "            ins2prodlist = input(\"Enter a product name: \")\n",
    "            products.append(ins2prodlist)\n",
    "        elif prodmenu == 3:\n",
    "            clearConsole()\n",
    "            for i in range(len(products)):\n",
    "                print(f\"{i}: \", products[i])\n",
    "            indexupd = int(input(\"Enter the index of the product you want to change: \"))\n",
    "            products[indexupd] = input(\"Enter a new name for this product: \")\n",
    "        elif prodmenu == 4:\n",
    "            clearConsole()\n",
    "            for i in range(len(products)):\n",
    "                print(f\"{i}: \", products[i])\n",
    "            indexdel = int(input(\"Enter the index of the product you want to remove: \"))\n",
    "            products.pop(indexdel)"
   ]
  }
 ],
 "metadata": {
  "interpreter": {
   "hash": "c2557150318e0f9e47bd0cfd2863178a56c96c1f056f809189663e9f5b388602"
  },
  "kernelspec": {
   "display_name": "Python 3.9.7 64-bit ('generationDataEng': conda)",
   "language": "python",
   "name": "python3"
  },
  "language_info": {
   "codemirror_mode": {
    "name": "ipython",
    "version": 3
   },
   "file_extension": ".py",
   "mimetype": "text/x-python",
   "name": "python",
   "nbconvert_exporter": "python",
   "pygments_lexer": "ipython3",
   "version": "3.9.7"
  },
  "orig_nbformat": 4
 },
 "nbformat": 4,
 "nbformat_minor": 2
}
